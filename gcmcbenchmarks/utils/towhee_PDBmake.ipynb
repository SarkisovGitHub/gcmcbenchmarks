{
 "cells": [
  {
   "cell_type": "code",
   "execution_count": 4,
   "metadata": {
    "collapsed": false
   },
   "outputs": [],
   "source": [
    "import MDAnalysis as mda\n",
    "import matplotlib.pyplot as plt\n",
    "%matplotlib notebook"
   ]
  },
  {
   "cell_type": "code",
   "execution_count": 5,
   "metadata": {
    "collapsed": true
   },
   "outputs": [],
   "source": [
    "u = mda.Universe('IRMOF.pdb')"
   ]
  },
  {
   "cell_type": "code",
   "execution_count": 6,
   "metadata": {
    "collapsed": true
   },
   "outputs": [],
   "source": [
    "data = open('irmofcharges.out').readlines()"
   ]
  },
  {
   "cell_type": "markdown",
   "metadata": {},
   "source": [
    "Columns are:  \n",
    "  - Type\n",
    "  - Element\n",
    "  - x, y, z\n",
    "  - Charge"
   ]
  },
  {
   "cell_type": "code",
   "execution_count": 7,
   "metadata": {
    "collapsed": true
   },
   "outputs": [],
   "source": [
    "def nameconv(name):\n",
    "    if name.startswith('Z'):\n",
    "        return 'Zn'\n",
    "    elif name.startswith('H'):\n",
    "        return 'H'\n",
    "    else:\n",
    "        return name"
   ]
  },
  {
   "cell_type": "code",
   "execution_count": 8,
   "metadata": {
    "collapsed": false
   },
   "outputs": [],
   "source": [
    "types = [nameconv(l.split()[0]) for l in data]\n",
    "charges = [float(l.split()[-1]) for l in data]"
   ]
  },
  {
   "cell_type": "code",
   "execution_count": 9,
   "metadata": {
    "collapsed": false
   },
   "outputs": [],
   "source": [
    "u.atoms.types = types * 8\n",
    "u.atoms.names = types * 8\n",
    "u.atoms.charges = charges * 8"
   ]
  },
  {
   "cell_type": "code",
   "execution_count": 10,
   "metadata": {
    "collapsed": false
   },
   "outputs": [
    {
     "data": {
      "text/plain": [
       "{'C1', 'C2', 'C3', 'H', 'O1', 'O2', 'Zn'}"
      ]
     },
     "execution_count": 10,
     "metadata": {},
     "output_type": "execute_result"
    }
   ],
   "source": [
    "set(u.atoms.types)"
   ]
  },
  {
   "cell_type": "code",
   "execution_count": 11,
   "metadata": {
    "collapsed": false
   },
   "outputs": [
    {
     "name": "stdout",
     "output_type": "stream",
     "text": [
      "Zn set([1.333])\n",
      "H set([0.16200000000000001])\n",
      "C3 set([-0.16700000000000001])\n",
      "C2 set([0.106])\n",
      "C1 set([0.55800000000000005])\n",
      "O2 set([-0.64100000000000001])\n",
      "O1 set([-1.5640000000000001])\n"
     ]
    }
   ],
   "source": [
    "for attype in set(u.atoms.types):\n",
    "    print attype, set(u.select_atoms('type {}'.format(attype)).charges)\n"
   ]
  },
  {
   "cell_type": "code",
   "execution_count": 12,
   "metadata": {
    "collapsed": false
   },
   "outputs": [],
   "source": [
    "Crad = mda.topology.tables.vdwradii['C']\n",
    "Orad = mda.topology.tables.vdwradii['O']\n",
    "\n",
    "vdwrad = {}\n",
    "vdwrad['C1'] = vdwrad['C2'] = vdwrad['C3'] = Crad\n",
    "vdwrad['O1'] = vdwrad['O2'] = Orad\n",
    "vdwrad['Zn'] = 1.42"
   ]
  },
  {
   "cell_type": "code",
   "execution_count": 13,
   "metadata": {
    "collapsed": false
   },
   "outputs": [],
   "source": [
    "u.atoms.guess_bonds(vdwradii=vdwrad)"
   ]
  },
  {
   "cell_type": "code",
   "execution_count": 14,
   "metadata": {
    "collapsed": false
   },
   "outputs": [
    {
     "data": {
      "text/plain": [
       "[('C3', 'H'), ('C1', 'O2'), ('C3', 'C3'), ('C2', 'C3'), ('C1', 'C2')]"
      ]
     },
     "execution_count": 14,
     "metadata": {},
     "output_type": "execute_result"
    }
   ],
   "source": [
    "u.atoms.bonds.types()"
   ]
  },
  {
   "cell_type": "code",
   "execution_count": 15,
   "metadata": {
    "collapsed": false
   },
   "outputs": [
    {
     "name": "stdout",
     "output_type": "stream",
     "text": [
      "('C3', 'H') 0.926656812337 8.16028758564e-07\n",
      "('C1', 'O2') 1.30435726031 1.47018680115e-06\n",
      "('C3', 'C3') 1.39000034332 7.78671818664e-07\n",
      "('C2', 'C3') 1.38853360568 1.17024570397e-06\n",
      "('C1', 'C2') 1.48499970138 1.26712451567e-06\n"
     ]
    }
   ],
   "source": [
    "for t in u.atoms.bonds.types():\n",
    "    tg = u.bonds.select_bonds(t)\n",
    "    print t, tg.values().mean(), tg.values().std()"
   ]
  },
  {
   "cell_type": "code",
   "execution_count": 16,
   "metadata": {
    "collapsed": false
   },
   "outputs": [
    {
     "name": "stdout",
     "output_type": "stream",
     "text": [
      "('H', 'C3', 'C3') 2.0927405174 1.09467158028e-06\n",
      "('O2', 'C1', 'O2') 2.20971060465 1.88309755011e-06\n",
      "('C3', 'C2', 'C3') 2.09317509073 1.58557992129e-06\n",
      "('C3', 'C3', 'C2') 2.0950047877 4.13288115385e-07\n",
      "('C2', 'C1', 'O2') 2.03673735126 1.06346992069e-06\n",
      "('C2', 'C3', 'H') 2.09543945155 1.71289948934e-06\n",
      "('C1', 'C2', 'C3') 2.09500510822 8.82092773712e-07\n"
     ]
    }
   ],
   "source": [
    "for t in u.atoms.angles.types():\n",
    "    tg = u.angles.select_bonds(t)\n",
    "    print t, tg.values().mean(), tg.values().std()"
   ]
  },
  {
   "cell_type": "code",
   "execution_count": 19,
   "metadata": {
    "collapsed": true
   },
   "outputs": [],
   "source": [
    "u.dimensions = [51.664] * 3 + [90.0] * 3"
   ]
  },
  {
   "cell_type": "code",
   "execution_count": 20,
   "metadata": {
    "collapsed": true
   },
   "outputs": [],
   "source": [
    "u.atoms.write('withbonds.pdb', bonds='all')"
   ]
  },
  {
   "cell_type": "code",
   "execution_count": null,
   "metadata": {
    "collapsed": true
   },
   "outputs": [],
   "source": []
  }
 ],
 "metadata": {
  "anaconda-cloud": {},
  "kernelspec": {
   "display_name": "Python [default]",
   "language": "python",
   "name": "python2"
  },
  "language_info": {
   "codemirror_mode": {
    "name": "ipython",
    "version": 2
   },
   "file_extension": ".py",
   "mimetype": "text/x-python",
   "name": "python",
   "nbconvert_exporter": "python",
   "pygments_lexer": "ipython2",
   "version": "2.7.11"
  }
 },
 "nbformat": 4,
 "nbformat_minor": 0
}
