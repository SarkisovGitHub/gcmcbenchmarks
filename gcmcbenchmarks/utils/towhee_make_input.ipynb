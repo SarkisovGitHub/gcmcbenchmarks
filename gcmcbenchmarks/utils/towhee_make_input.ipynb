{
 "cells": [
  {
   "cell_type": "code",
   "execution_count": 1,
   "metadata": {
    "collapsed": true
   },
   "outputs": [],
   "source": [
    "import MDAnalysis as mda\n",
    "from MDAnalysis.topology.core import guess_angles, guess_improper_dihedrals\n",
    "from MDAnalysis.core.topologyobjects import TopologyGroup"
   ]
  },
  {
   "cell_type": "code",
   "execution_count": 2,
   "metadata": {
    "collapsed": true
   },
   "outputs": [],
   "source": [
    "from towheebasic import write_basic, is_central"
   ]
  },
  {
   "cell_type": "code",
   "execution_count": 3,
   "metadata": {
    "collapsed": false
   },
   "outputs": [],
   "source": [
    "u = mda.Universe('./withbonds.pdb')"
   ]
  },
  {
   "cell_type": "code",
   "execution_count": 4,
   "metadata": {
    "collapsed": true
   },
   "outputs": [],
   "source": [
    "charges = [float(line.split()[-1]) for line in open('irmofcharges.out', 'r')]\n",
    "u.atoms.charges = charges * 8"
   ]
  },
  {
   "cell_type": "code",
   "execution_count": 5,
   "metadata": {
    "collapsed": false
   },
   "outputs": [
    {
     "name": "stdout",
     "output_type": "stream",
     "text": [
      "Missing 'forcefield' keyword\n"
     ]
    }
   ],
   "source": [
    "write_basic(u.atoms, charge_assignment='manual')"
   ]
  },
  {
   "cell_type": "code",
   "execution_count": 6,
   "metadata": {
    "collapsed": false
   },
   "outputs": [],
   "source": [
    "from towheebasic import write_coords"
   ]
  },
  {
   "cell_type": "code",
   "execution_count": null,
   "metadata": {
    "collapsed": true
   },
   "outputs": [],
   "source": []
  },
  {
   "cell_type": "code",
   "execution_count": 7,
   "metadata": {
    "collapsed": true
   },
   "outputs": [],
   "source": [
    "write_coords(u.atoms)"
   ]
  },
  {
   "cell_type": "code",
   "execution_count": 19,
   "metadata": {
    "collapsed": false
   },
   "outputs": [
    {
     "data": {
      "text/plain": [
       "<TopologyGroup containing 21 Dihedrals>"
      ]
     },
     "execution_count": 19,
     "metadata": {},
     "output_type": "execute_result"
    }
   ],
   "source": [
    "u.atoms[0].impropers"
   ]
  },
  {
   "cell_type": "code",
   "execution_count": 25,
   "metadata": {
    "collapsed": false
   },
   "outputs": [
    {
     "name": "stdout",
     "output_type": "stream",
     "text": [
      "[False, False, True, True, True, False, False, False, False, False, False, False, True, True, False, False, True, True, True, False, False, False, False, True, True, True, True, False, False, False, False, False, False, False, False, False, False, False, False, False, False, False, False, False, False, False, False, False]\n"
     ]
    }
   ],
   "source": [
    "print [is_central(u.atoms[1], i) for i in u.atoms[1].impropers]"
   ]
  },
  {
   "cell_type": "code",
   "execution_count": 30,
   "metadata": {
    "collapsed": false
   },
   "outputs": [
    {
     "data": {
      "text/plain": [
       "[<Dihedral between: Atom 1 (Zn of SYST-1), Atom 3 (O of SYST-1), Atom 2 (O of SYST-1), Atom 198 (O of SYST-1)>,\n",
       " <Dihedral between: Atom 1 (Zn of SYST-1), Atom 3 (O of SYST-1), Atom 2 (O of SYST-1), Atom 419 (O of SYST-1)>,\n",
       " <Dihedral between: Atom 1 (Zn of SYST-1), Atom 57 (Zn of SYST-1), Atom 105 (Zn of SYST-1), Atom 2 (O of SYST-1)>,\n",
       " <Dihedral between: Atom 1 (Zn of SYST-1), Atom 57 (Zn of SYST-1), Atom 247 (Zn of SYST-1), Atom 2 (O of SYST-1)>,\n",
       " <Dihedral between: Atom 1 (Zn of SYST-1), Atom 105 (Zn of SYST-1), Atom 247 (Zn of SYST-1), Atom 2 (O of SYST-1)>,\n",
       " <Dihedral between: Atom 1 (Zn of SYST-1), Atom 198 (O of SYST-1), Atom 2 (O of SYST-1), Atom 3 (O of SYST-1)>,\n",
       " <Dihedral between: Atom 1 (Zn of SYST-1), Atom 198 (O of SYST-1), Atom 2 (O of SYST-1), Atom 419 (O of SYST-1)>,\n",
       " <Dihedral between: Atom 1 (Zn of SYST-1), Atom 198 (O of SYST-1), Atom 3 (O of SYST-1), Atom 2 (O of SYST-1)>,\n",
       " <Dihedral between: Atom 1 (Zn of SYST-1), Atom 419 (O of SYST-1), Atom 2 (O of SYST-1), Atom 3 (O of SYST-1)>,\n",
       " <Dihedral between: Atom 1 (Zn of SYST-1), Atom 419 (O of SYST-1), Atom 2 (O of SYST-1), Atom 198 (O of SYST-1)>,\n",
       " <Dihedral between: Atom 1 (Zn of SYST-1), Atom 419 (O of SYST-1), Atom 3 (O of SYST-1), Atom 2 (O of SYST-1)>,\n",
       " <Dihedral between: Atom 1 (Zn of SYST-1), Atom 419 (O of SYST-1), Atom 198 (O of SYST-1), Atom 2 (O of SYST-1)>,\n",
       " <Dihedral between: Atom 2 (O of SYST-1), Atom 57 (Zn of SYST-1), Atom 1 (Zn of SYST-1), Atom 105 (Zn of SYST-1)>,\n",
       " <Dihedral between: Atom 2 (O of SYST-1), Atom 57 (Zn of SYST-1), Atom 1 (Zn of SYST-1), Atom 247 (Zn of SYST-1)>,\n",
       " <Dihedral between: Atom 2 (O of SYST-1), Atom 58 (O of SYST-1), Atom 174 (O of SYST-1), Atom 57 (Zn of SYST-1)>,\n",
       " <Dihedral between: Atom 2 (O of SYST-1), Atom 58 (O of SYST-1), Atom 298 (O of SYST-1), Atom 57 (Zn of SYST-1)>,\n",
       " <Dihedral between: Atom 2 (O of SYST-1), Atom 105 (Zn of SYST-1), Atom 1 (Zn of SYST-1), Atom 57 (Zn of SYST-1)>,\n",
       " <Dihedral between: Atom 2 (O of SYST-1), Atom 105 (Zn of SYST-1), Atom 1 (Zn of SYST-1), Atom 247 (Zn of SYST-1)>,\n",
       " <Dihedral between: Atom 2 (O of SYST-1), Atom 105 (Zn of SYST-1), Atom 57 (Zn of SYST-1), Atom 247 (Zn of SYST-1)>,\n",
       " <Dihedral between: Atom 2 (O of SYST-1), Atom 106 (O of SYST-1), Atom 213 (O of SYST-1), Atom 105 (Zn of SYST-1)>,\n",
       " <Dihedral between: Atom 2 (O of SYST-1), Atom 106 (O of SYST-1), Atom 316 (O of SYST-1), Atom 105 (Zn of SYST-1)>,\n",
       " <Dihedral between: Atom 2 (O of SYST-1), Atom 174 (O of SYST-1), Atom 298 (O of SYST-1), Atom 57 (Zn of SYST-1)>,\n",
       " <Dihedral between: Atom 2 (O of SYST-1), Atom 213 (O of SYST-1), Atom 316 (O of SYST-1), Atom 105 (Zn of SYST-1)>,\n",
       " <Dihedral between: Atom 2 (O of SYST-1), Atom 247 (Zn of SYST-1), Atom 1 (Zn of SYST-1), Atom 57 (Zn of SYST-1)>,\n",
       " <Dihedral between: Atom 2 (O of SYST-1), Atom 247 (Zn of SYST-1), Atom 1 (Zn of SYST-1), Atom 105 (Zn of SYST-1)>,\n",
       " <Dihedral between: Atom 2 (O of SYST-1), Atom 247 (Zn of SYST-1), Atom 57 (Zn of SYST-1), Atom 105 (Zn of SYST-1)>,\n",
       " <Dihedral between: Atom 2 (O of SYST-1), Atom 247 (Zn of SYST-1), Atom 105 (Zn of SYST-1), Atom 57 (Zn of SYST-1)>,\n",
       " <Dihedral between: Atom 2 (O of SYST-1), Atom 248 (O of SYST-1), Atom 337 (O of SYST-1), Atom 247 (Zn of SYST-1)>,\n",
       " <Dihedral between: Atom 2 (O of SYST-1), Atom 248 (O of SYST-1), Atom 376 (O of SYST-1), Atom 247 (Zn of SYST-1)>,\n",
       " <Dihedral between: Atom 2 (O of SYST-1), Atom 337 (O of SYST-1), Atom 376 (O of SYST-1), Atom 247 (Zn of SYST-1)>,\n",
       " <Dihedral between: Atom 57 (Zn of SYST-1), Atom 58 (O of SYST-1), Atom 2 (O of SYST-1), Atom 174 (O of SYST-1)>,\n",
       " <Dihedral between: Atom 57 (Zn of SYST-1), Atom 58 (O of SYST-1), Atom 2 (O of SYST-1), Atom 298 (O of SYST-1)>,\n",
       " <Dihedral between: Atom 57 (Zn of SYST-1), Atom 174 (O of SYST-1), Atom 2 (O of SYST-1), Atom 58 (O of SYST-1)>,\n",
       " <Dihedral between: Atom 57 (Zn of SYST-1), Atom 174 (O of SYST-1), Atom 2 (O of SYST-1), Atom 298 (O of SYST-1)>,\n",
       " <Dihedral between: Atom 57 (Zn of SYST-1), Atom 298 (O of SYST-1), Atom 2 (O of SYST-1), Atom 58 (O of SYST-1)>,\n",
       " <Dihedral between: Atom 57 (Zn of SYST-1), Atom 298 (O of SYST-1), Atom 2 (O of SYST-1), Atom 174 (O of SYST-1)>,\n",
       " <Dihedral between: Atom 105 (Zn of SYST-1), Atom 106 (O of SYST-1), Atom 2 (O of SYST-1), Atom 213 (O of SYST-1)>,\n",
       " <Dihedral between: Atom 105 (Zn of SYST-1), Atom 106 (O of SYST-1), Atom 2 (O of SYST-1), Atom 316 (O of SYST-1)>,\n",
       " <Dihedral between: Atom 105 (Zn of SYST-1), Atom 213 (O of SYST-1), Atom 2 (O of SYST-1), Atom 106 (O of SYST-1)>,\n",
       " <Dihedral between: Atom 105 (Zn of SYST-1), Atom 213 (O of SYST-1), Atom 2 (O of SYST-1), Atom 316 (O of SYST-1)>,\n",
       " <Dihedral between: Atom 105 (Zn of SYST-1), Atom 316 (O of SYST-1), Atom 2 (O of SYST-1), Atom 106 (O of SYST-1)>,\n",
       " <Dihedral between: Atom 105 (Zn of SYST-1), Atom 316 (O of SYST-1), Atom 2 (O of SYST-1), Atom 213 (O of SYST-1)>,\n",
       " <Dihedral between: Atom 247 (Zn of SYST-1), Atom 248 (O of SYST-1), Atom 2 (O of SYST-1), Atom 337 (O of SYST-1)>,\n",
       " <Dihedral between: Atom 247 (Zn of SYST-1), Atom 248 (O of SYST-1), Atom 2 (O of SYST-1), Atom 376 (O of SYST-1)>,\n",
       " <Dihedral between: Atom 247 (Zn of SYST-1), Atom 337 (O of SYST-1), Atom 2 (O of SYST-1), Atom 248 (O of SYST-1)>,\n",
       " <Dihedral between: Atom 247 (Zn of SYST-1), Atom 337 (O of SYST-1), Atom 2 (O of SYST-1), Atom 376 (O of SYST-1)>,\n",
       " <Dihedral between: Atom 247 (Zn of SYST-1), Atom 376 (O of SYST-1), Atom 2 (O of SYST-1), Atom 248 (O of SYST-1)>,\n",
       " <Dihedral between: Atom 247 (Zn of SYST-1), Atom 376 (O of SYST-1), Atom 2 (O of SYST-1), Atom 337 (O of SYST-1)>]"
      ]
     },
     "execution_count": 30,
     "metadata": {},
     "output_type": "execute_result"
    }
   ],
   "source": [
    "list(u.atoms[1].impropers)"
   ]
  },
  {
   "cell_type": "code",
   "execution_count": null,
   "metadata": {
    "collapsed": true
   },
   "outputs": [],
   "source": []
  }
 ],
 "metadata": {
  "anaconda-cloud": {},
  "kernelspec": {
   "display_name": "Python [default]",
   "language": "python",
   "name": "python2"
  },
  "language_info": {
   "codemirror_mode": {
    "name": "ipython",
    "version": 2
   },
   "file_extension": ".py",
   "mimetype": "text/x-python",
   "name": "python",
   "nbconvert_exporter": "python",
   "pygments_lexer": "ipython2",
   "version": "2.7.11"
  }
 },
 "nbformat": 4,
 "nbformat_minor": 0
}
