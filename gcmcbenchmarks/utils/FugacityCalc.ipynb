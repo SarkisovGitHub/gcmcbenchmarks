{
 "cells": [
  {
   "cell_type": "markdown",
   "metadata": {},
   "source": [
    "Fugacity and chemical potential calculations\n",
    "--------------------------------------------\n",
    "\n",
    "From a range of starting pressures, this notebook calculates the fugacity and chemical potential of CO$_2$\n",
    "\n",
    "Fugacity $(f)$ is calculated from the Peng Robinson equation of state (PREoS) (`pr.fugacity_coeff`)\n",
    "\n",
    "$$\\Phi(T, P) = PREoS(T_C, P_C, \\omega, T, P) $$\n",
    "\n",
    "$$f = \\Phi P$$\n",
    "\n",
    "The thermal De Broglie wavelength is given by: (`pr.debroglie`)\n",
    "\n",
    "$$\\lambda = \\left(\\frac{h^2}{2 \\pi m k_b T}\\right)^{0.5}$$\n",
    "\n",
    "Chemical potential is calculated as (`pr.chempot`)\n",
    "\n",
    "$$\\mu = k_b T \\log\\left( \\frac{f \\lambda ^3}{k_b T}\\right)$$"
   ]
  },
  {
   "cell_type": "code",
   "execution_count": 1,
   "metadata": {
    "collapsed": true
   },
   "outputs": [],
   "source": [
    "from __future__ import division\n",
    "from scipy.constants import k, h, m_u, N_A, R\n",
    "import numpy as np\n",
    "from functools import partial"
   ]
  },
  {
   "cell_type": "code",
   "execution_count": 2,
   "metadata": {},
   "outputs": [],
   "source": [
    "import pengrobinson as pr\n",
    "import co2"
   ]
  },
  {
   "cell_type": "code",
   "execution_count": 3,
   "metadata": {},
   "outputs": [],
   "source": [
    "T = 208.0 # K\n",
    "pressures = [5000, 10000, 20000, 30000, 40000, 50000, 60000, 70000]\n",
    "\n",
    "lmb = pr.debroglie(co2.m, T)\n",
    "\n",
    "co2_fugacity = partial(pr.fugacity_coeff, T=T, Pc=co2.Pc, Tc=co2.Tc, omega=co2.omega)"
   ]
  },
  {
   "cell_type": "code",
   "execution_count": 11,
   "metadata": {},
   "outputs": [
    {
     "name": "stdout",
     "output_type": "stream",
     "text": [
      "Pressure | Fugacity     |    Chemical potential   \n",
      "(kPa)    | (kPa)        | (J/mol)      | (K)         \n",
      "-----------------------------------------------------\n",
      "  5000.0 |    4996.2090 |     -31.7610 |   -3819.9691\n",
      " 10000.0 |    9984.8372 |     -30.5636 |   -3675.9523\n",
      " 20000.0 |   19939.3594 |     -29.3675 |   -3532.0937\n",
      " 30000.0 |   29863.5824 |     -28.6689 |   -3448.0733\n",
      " 40000.0 |   39757.5219 |     -28.1740 |   -3388.5522\n",
      " 50000.0 |   49621.1934 |     -27.7907 |   -3342.4555\n",
      " 60000.0 |   59454.6121 |     -27.4780 |   -3304.8501\n",
      " 70000.0 |   69257.7930 |     -27.2141 |   -3273.1046\n"
     ]
    }
   ],
   "source": [
    "print '{:8s} | {:12s} | {:^24s}'.format('Pressure', 'Fugacity', 'Chemical potential')\n",
    "print '{:8s} | {:12s} | {:12s} | {:12s}'.format('(kPa)', '(kPa)', '(J/mol)', '(K)')\n",
    "print '-' * (8 + 12 + 12 + 12 + 3*3)\n",
    "for P in pressures:\n",
    "    f = co2_fugacity(P) * P\n",
    "    mu = pr.chempot(f, T, lmb) * N_A / 1000.\n",
    "    mu2 = mu / R * 1000\n",
    "    print '{:>8.1F} | {:>12.4F} | {:>12.4F} | {:>12.4F}'.format(P, f, mu, mu2)"
   ]
  },
  {
   "cell_type": "code",
   "execution_count": 5,
   "metadata": {},
   "outputs": [
    {
     "data": {
      "text/plain": [
       "0.017956000000000003"
      ]
     },
     "execution_count": 5,
     "metadata": {},
     "output_type": "execute_result"
    }
   ],
   "source": [
    "0.134 ** 2"
   ]
  },
  {
   "cell_type": "code",
   "execution_count": null,
   "metadata": {
    "collapsed": true
   },
   "outputs": [],
   "source": []
  }
 ],
 "metadata": {
  "anaconda-cloud": {},
  "kernelspec": {
   "display_name": "Python [conda env:pymbar]",
   "language": "python",
   "name": "conda-env-pymbar-py"
  },
  "language_info": {
   "codemirror_mode": {
    "name": "ipython",
    "version": 2
   },
   "file_extension": ".py",
   "mimetype": "text/x-python",
   "name": "python",
   "nbconvert_exporter": "python",
   "pygments_lexer": "ipython2",
   "version": "2.7.12"
  }
 },
 "nbformat": 4,
 "nbformat_minor": 1
}
